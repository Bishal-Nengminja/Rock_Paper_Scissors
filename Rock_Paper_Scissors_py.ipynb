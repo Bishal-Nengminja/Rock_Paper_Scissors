{
  "nbformat": 4,
  "nbformat_minor": 0,
  "metadata": {
    "colab": {
      "provenance": [],
      "authorship_tag": "ABX9TyOnWKvzAdyEBL01R045D9V5",
      "include_colab_link": true
    },
    "kernelspec": {
      "name": "python3",
      "display_name": "Python 3"
    },
    "language_info": {
      "name": "python"
    }
  },
  "cells": [
    {
      "cell_type": "markdown",
      "metadata": {
        "id": "view-in-github",
        "colab_type": "text"
      },
      "source": [
        "<a href=\"https://colab.research.google.com/github/Bishal-Nengminja/Rock_Paper_Scissors/blob/main/Rock_Paper_Scissors_py.ipynb\" target=\"_parent\"><img src=\"https://colab.research.google.com/assets/colab-badge.svg\" alt=\"Open In Colab\"/></a>"
      ]
    },
    {
      "cell_type": "code",
      "source": [
        "import random"
      ],
      "metadata": {
        "id": "hFchfFFimKKX"
      },
      "execution_count": 7,
      "outputs": []
    },
    {
      "cell_type": "code",
      "source": [
        "# Choices and explanations\n",
        "CHOICES = [\"rock\", \"paper\", \"scissors\"]\n",
        "EXPLANATIONS = {\n",
        "    (\"rock\", \"scissors\"): \"Rock crushes Scissors!\",\n",
        "    (\"scissors\", \"paper\"): \"Scissors cut Paper!\",\n",
        "    (\"paper\", \"rock\"): \"Paper covers Rock!\",\n",
        "}"
      ],
      "metadata": {
        "id": "hb8WGlDj6EZS"
      },
      "execution_count": 8,
      "outputs": []
    },
    {
      "cell_type": "code",
      "source": [
        "def determine_winner(user, computer):\n",
        "    if user == computer:\n",
        "        return \"tie\", \"It's a tie!\"\n",
        "    elif (user, computer) in EXPLANATIONS:\n",
        "        return \"win\", EXPLANATIONS[(user, computer)]\n",
        "    else:\n",
        "        return \"lose\", EXPLANATIONS[(computer, user)]\n",
        "\n",
        "def main():\n",
        "    user_score = 0\n",
        "    computer_score = 0\n",
        "    print(\"Welcome to Rock, Paper, Scissors!\")\n",
        "    while True:\n",
        "        user_choice = input(\"Enter Rock, Paper, or Scissors: \").lower()\n",
        "        while user_choice not in CHOICES:\n",
        "            print(\"Invalid choice. Please try again.\")\n",
        "            user_choice = input(\"Enter Rock, Paper, or Scissors: \").lower()\n",
        "        computer_choice = random.choice(CHOICES)\n",
        "        outcome, explanation = determine_winner(user_choice, computer_choice)\n",
        "        print(f\"You chose {user_choice}, computer chose {computer_choice}.\")\n",
        "        if outcome == \"win\":\n",
        "            print(\"You win!\")\n",
        "            user_score += 1\n",
        "        elif outcome == \"lose\":\n",
        "            print(\"Computer wins!\")\n",
        "            computer_score += 1\n",
        "        else:\n",
        "            print(\"It's a tie!\")\n",
        "        print(\"Explanation:\", explanation)\n",
        "        print(f\"Score => You: {user_score} | Computer: {computer_score}\")\n",
        "        play_again = input(\"Do you want to play again? (yes/no): \").lower()\n",
        "        if play_again != \"yes\":\n",
        "            print(\"Thanks for playing!\")\n",
        "            break\n",
        "\n",
        "if __name__ == \"__main__\":\n",
        "    main()\n"
      ],
      "metadata": {
        "colab": {
          "base_uri": "https://localhost:8080/",
          "height": 0
        },
        "id": "WzURPOP17Kfz",
        "outputId": "f2f74f79-ce1e-46fb-fbe3-b741b0bd106e"
      },
      "execution_count": 10,
      "outputs": [
        {
          "output_type": "stream",
          "name": "stdout",
          "text": [
            "Welcome to Rock, Paper, Scissors!\n",
            "Enter Rock, Paper, or Scissors: Paper\n",
            "You chose paper, computer chose paper.\n",
            "It's a tie!\n",
            "Explanation: It's a tie!\n",
            "Score => You: 0 | Computer: 0\n",
            "Do you want to play again? (yes/no): yes\n",
            "Enter Rock, Paper, or Scissors: Rock\n",
            "You chose rock, computer chose paper.\n",
            "Computer wins!\n",
            "Explanation: Paper covers Rock!\n",
            "Score => You: 0 | Computer: 1\n",
            "Do you want to play again? (yes/no): yes\n",
            "Enter Rock, Paper, or Scissors: Scissors\n",
            "You chose scissors, computer chose paper.\n",
            "You win!\n",
            "Explanation: Scissors cut Paper!\n",
            "Score => You: 1 | Computer: 1\n",
            "Do you want to play again? (yes/no): no\n",
            "Thanks for playing!\n"
          ]
        }
      ]
    },
    {
      "cell_type": "code",
      "source": [],
      "metadata": {
        "id": "Q-CmWJYb7Pfy"
      },
      "execution_count": null,
      "outputs": []
    }
  ]
}